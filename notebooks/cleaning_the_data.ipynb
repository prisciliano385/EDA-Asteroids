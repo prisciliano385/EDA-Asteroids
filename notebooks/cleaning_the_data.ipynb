{
 "cells": [
  {
   "cell_type": "markdown",
   "id": "a69eb74b-ba2b-4fae-9954-bb554ec0e63a",
   "metadata": {},
   "source": [
    "# Cleaning the data:"
   ]
  },
  {
   "cell_type": "markdown",
   "id": "d9549adc-71e5-4378-999e-b2d8abb4eaa2",
   "metadata": {},
   "source": [
    "The original dataset, called \"Asteroid_Dataset.csv\" is available in the data directory. Let's see how the dataset is organized and what are its contents:"
   ]
  },
  {
   "cell_type": "code",
   "execution_count": 1,
   "id": "fcf036ca-60a6-463a-afc5-bd65b7758c45",
   "metadata": {},
   "outputs": [],
   "source": [
    "import pandas as pd\n",
    "import numpy as np"
   ]
  },
  {
   "cell_type": "code",
   "execution_count": 2,
   "id": "58eae53a-180d-4c6c-aaf7-df99590d1bc6",
   "metadata": {},
   "outputs": [
    {
     "name": "stderr",
     "output_type": "stream",
     "text": [
      "C:\\Users\\antto\\AppData\\Local\\Temp\\ipykernel_39144\\1041614087.py:1: DtypeWarning: Columns (4) have mixed types. Specify dtype option on import or set low_memory=False.\n",
      "  df = pd.read_csv(\"../data/Asteroid_Dataset.csv\")\n"
     ]
    }
   ],
   "source": [
    "df = pd.read_csv(\"../data/Asteroid_Dataset.csv\")"
   ]
  },
  {
   "cell_type": "markdown",
   "id": "13b44f24-76ee-41af-a4a3-703c86e625e8",
   "metadata": {},
   "source": [
    "## Dropping columns:"
   ]
  },
  {
   "cell_type": "code",
   "execution_count": 3,
   "id": "3ec95343-f168-4186-87d5-511beb8e1d13",
   "metadata": {},
   "outputs": [
    {
     "name": "stdout",
     "output_type": "stream",
     "text": [
      "<class 'pandas.core.frame.DataFrame'>\n",
      "RangeIndex: 126131 entries, 0 to 126130\n",
      "Data columns (total 35 columns):\n",
      " #   Column          Non-Null Count   Dtype  \n",
      "---  ------          --------------   -----  \n",
      " 0   spkid           126131 non-null  int64  \n",
      " 1   full_name       126131 non-null  object \n",
      " 2   pha             126131 non-null  object \n",
      " 3   H               126131 non-null  float64\n",
      " 4   diameter        126131 non-null  object \n",
      " 5   albedo          126131 non-null  float64\n",
      " 6   diameter_sigma  126131 non-null  object \n",
      " 7   e               126131 non-null  float64\n",
      " 8   a               126131 non-null  float64\n",
      " 9   q               126131 non-null  float64\n",
      " 10  i               126131 non-null  float64\n",
      " 11  om              126131 non-null  float64\n",
      " 12  w               126131 non-null  float64\n",
      " 13  ma              126131 non-null  float64\n",
      " 14  ad              126131 non-null  float64\n",
      " 15  n               126131 non-null  float64\n",
      " 16  tp              126131 non-null  float64\n",
      " 17  tp_cal          126131 non-null  float64\n",
      " 18  per             126131 non-null  float64\n",
      " 19  per_y           126131 non-null  float64\n",
      " 20  moid            126131 non-null  float64\n",
      " 21  moid_ld         126131 non-null  float64\n",
      " 22  sigma_e         126131 non-null  float64\n",
      " 23  sigma_a         126131 non-null  float64\n",
      " 24  sigma_q         126131 non-null  float64\n",
      " 25  sigma_i         126131 non-null  float64\n",
      " 26  sigma_om        126131 non-null  float64\n",
      " 27  sigma_w         126131 non-null  float64\n",
      " 28  sigma_ma        126131 non-null  float64\n",
      " 29  sigma_ad        126131 non-null  float64\n",
      " 30  sigma_n         126131 non-null  float64\n",
      " 31  sigma_tp        126131 non-null  float64\n",
      " 32  sigma_per       126131 non-null  float64\n",
      " 33  class           126131 non-null  object \n",
      " 34  rms             126131 non-null  float64\n",
      "dtypes: float64(29), int64(1), object(5)\n",
      "memory usage: 33.7+ MB\n"
     ]
    }
   ],
   "source": [
    "df.info()"
   ]
  },
  {
   "cell_type": "markdown",
   "id": "fef71ffc-58b5-4c19-b808-d2e4d3fcfc6a",
   "metadata": {},
   "source": [
    "---"
   ]
  },
  {
   "cell_type": "markdown",
   "id": "ee1bd943-ca97-49ea-819c-a303f05bb235",
   "metadata": {},
   "source": [
    "There are many columns which are not useful for our analysis. \n",
    "- We should drop all uncertainty ($\\sigma$) columns from the dataset.\n",
    "- We should also drop some of the orbital parameters."
   ]
  },
  {
   "cell_type": "code",
   "execution_count": 4,
   "id": "dd86d89c-90a1-4114-b908-309d3f5312ea",
   "metadata": {},
   "outputs": [
    {
     "data": {
      "text/plain": [
       "Index(['spkid', 'full_name', 'pha', 'H', 'diameter', 'albedo',\n",
       "       'diameter_sigma', 'e', 'a', 'q', 'i', 'om', 'w', 'ma', 'ad', 'n', 'tp',\n",
       "       'tp_cal', 'per', 'per_y', 'moid', 'moid_ld', 'sigma_e', 'sigma_a',\n",
       "       'sigma_q', 'sigma_i', 'sigma_om', 'sigma_w', 'sigma_ma', 'sigma_ad',\n",
       "       'sigma_n', 'sigma_tp', 'sigma_per', 'class', 'rms'],\n",
       "      dtype='object')"
      ]
     },
     "execution_count": 4,
     "metadata": {},
     "output_type": "execute_result"
    }
   ],
   "source": [
    "col = df.columns\n",
    "col"
   ]
  },
  {
   "cell_type": "code",
   "execution_count": 5,
   "id": "cdac4738-fe05-4f15-888b-afa447cf4df1",
   "metadata": {},
   "outputs": [
    {
     "data": {
      "text/plain": [
       "Index(['om', 'w', 'ma'], dtype='object')"
      ]
     },
     "execution_count": 5,
     "metadata": {},
     "output_type": "execute_result"
    }
   ],
   "source": [
    "drop1 = df.loc[:, \"om\":\"ma\"].columns\n",
    "drop2 = df.loc[:, \"n\":\"tp_cal\"]\n",
    "drop3 = df.loc[:, \"moid\": \"sigma_per\"].columns\n",
    "drop4 = [\"rms\"]\n",
    "drop1"
   ]
  },
  {
   "cell_type": "code",
   "execution_count": 6,
   "id": "885aa971-c630-40b1-b3d0-18940b2bae2e",
   "metadata": {},
   "outputs": [],
   "source": [
    "df.drop(drop1, axis = 1, inplace = True)\n",
    "df.drop(drop2, axis = 1, inplace = True)\n",
    "df.drop(drop3, axis = 1, inplace = True)\n",
    "df.drop(drop4, axis = 1, inplace = True)"
   ]
  },
  {
   "cell_type": "code",
   "execution_count": 7,
   "id": "b03fc266-92f9-4a97-be63-ed4fdf658c9b",
   "metadata": {},
   "outputs": [
    {
     "name": "stdout",
     "output_type": "stream",
     "text": [
      "<class 'pandas.core.frame.DataFrame'>\n",
      "RangeIndex: 126131 entries, 0 to 126130\n",
      "Data columns (total 15 columns):\n",
      " #   Column          Non-Null Count   Dtype  \n",
      "---  ------          --------------   -----  \n",
      " 0   spkid           126131 non-null  int64  \n",
      " 1   full_name       126131 non-null  object \n",
      " 2   pha             126131 non-null  object \n",
      " 3   H               126131 non-null  float64\n",
      " 4   diameter        126131 non-null  object \n",
      " 5   albedo          126131 non-null  float64\n",
      " 6   diameter_sigma  126131 non-null  object \n",
      " 7   e               126131 non-null  float64\n",
      " 8   a               126131 non-null  float64\n",
      " 9   q               126131 non-null  float64\n",
      " 10  i               126131 non-null  float64\n",
      " 11  ad              126131 non-null  float64\n",
      " 12  per             126131 non-null  float64\n",
      " 13  per_y           126131 non-null  float64\n",
      " 14  class           126131 non-null  object \n",
      "dtypes: float64(9), int64(1), object(5)\n",
      "memory usage: 14.4+ MB\n"
     ]
    }
   ],
   "source": [
    "df.info()"
   ]
  },
  {
   "cell_type": "markdown",
   "id": "8c9916b5-0115-437b-a85a-41ac7b88b425",
   "metadata": {},
   "source": [
    "## Filling values:"
   ]
  },
  {
   "cell_type": "markdown",
   "id": "59877ee0-9e30-458f-9e2f-34307644a605",
   "metadata": {},
   "source": [
    "There are no Null values in the dataset. Let's have a look at the first 5 elements of the dataset:"
   ]
  },
  {
   "cell_type": "code",
   "execution_count": 8,
   "id": "040c3e3b-287c-4f00-8654-a08008209cb1",
   "metadata": {},
   "outputs": [
    {
     "data": {
      "text/html": [
       "<div>\n",
       "<style scoped>\n",
       "    .dataframe tbody tr th:only-of-type {\n",
       "        vertical-align: middle;\n",
       "    }\n",
       "\n",
       "    .dataframe tbody tr th {\n",
       "        vertical-align: top;\n",
       "    }\n",
       "\n",
       "    .dataframe thead th {\n",
       "        text-align: right;\n",
       "    }\n",
       "</style>\n",
       "<table border=\"1\" class=\"dataframe\">\n",
       "  <thead>\n",
       "    <tr style=\"text-align: right;\">\n",
       "      <th></th>\n",
       "      <th>spkid</th>\n",
       "      <th>full_name</th>\n",
       "      <th>pha</th>\n",
       "      <th>H</th>\n",
       "      <th>diameter</th>\n",
       "      <th>albedo</th>\n",
       "      <th>diameter_sigma</th>\n",
       "      <th>e</th>\n",
       "      <th>a</th>\n",
       "      <th>q</th>\n",
       "      <th>i</th>\n",
       "      <th>ad</th>\n",
       "      <th>per</th>\n",
       "      <th>per_y</th>\n",
       "      <th>class</th>\n",
       "    </tr>\n",
       "  </thead>\n",
       "  <tbody>\n",
       "    <tr>\n",
       "      <th>0</th>\n",
       "      <td>2000001</td>\n",
       "      <td>'     1 Ceres'</td>\n",
       "      <td>N</td>\n",
       "      <td>3.40</td>\n",
       "      <td>939.4</td>\n",
       "      <td>0.0900</td>\n",
       "      <td>0.2</td>\n",
       "      <td>0.077557</td>\n",
       "      <td>2.767657</td>\n",
       "      <td>2.553006</td>\n",
       "      <td>10.588621</td>\n",
       "      <td>2.982308</td>\n",
       "      <td>1681.770740</td>\n",
       "      <td>4.604437</td>\n",
       "      <td>MBA</td>\n",
       "    </tr>\n",
       "    <tr>\n",
       "      <th>1</th>\n",
       "      <td>2000002</td>\n",
       "      <td>'     2 Pallas'</td>\n",
       "      <td>N</td>\n",
       "      <td>4.20</td>\n",
       "      <td>545.0</td>\n",
       "      <td>0.1010</td>\n",
       "      <td>18.0</td>\n",
       "      <td>0.229972</td>\n",
       "      <td>2.773841</td>\n",
       "      <td>2.135935</td>\n",
       "      <td>34.832934</td>\n",
       "      <td>3.411748</td>\n",
       "      <td>1687.410991</td>\n",
       "      <td>4.619880</td>\n",
       "      <td>MBA</td>\n",
       "    </tr>\n",
       "    <tr>\n",
       "      <th>2</th>\n",
       "      <td>2000003</td>\n",
       "      <td>'     3 Juno'</td>\n",
       "      <td>N</td>\n",
       "      <td>5.33</td>\n",
       "      <td>246.596</td>\n",
       "      <td>0.2140</td>\n",
       "      <td>10.594000000000001</td>\n",
       "      <td>0.256936</td>\n",
       "      <td>2.668285</td>\n",
       "      <td>1.982706</td>\n",
       "      <td>12.991044</td>\n",
       "      <td>3.353865</td>\n",
       "      <td>1592.013770</td>\n",
       "      <td>4.358696</td>\n",
       "      <td>MBA</td>\n",
       "    </tr>\n",
       "    <tr>\n",
       "      <th>3</th>\n",
       "      <td>2000004</td>\n",
       "      <td>'     4 Vesta'</td>\n",
       "      <td>N</td>\n",
       "      <td>3.00</td>\n",
       "      <td>525.4</td>\n",
       "      <td>0.4228</td>\n",
       "      <td>0.2</td>\n",
       "      <td>0.088516</td>\n",
       "      <td>2.362014</td>\n",
       "      <td>2.152938</td>\n",
       "      <td>7.141893</td>\n",
       "      <td>2.571090</td>\n",
       "      <td>1325.934723</td>\n",
       "      <td>3.630211</td>\n",
       "      <td>MBA</td>\n",
       "    </tr>\n",
       "    <tr>\n",
       "      <th>4</th>\n",
       "      <td>2000005</td>\n",
       "      <td>'     5 Astraea'</td>\n",
       "      <td>N</td>\n",
       "      <td>6.90</td>\n",
       "      <td>106.699</td>\n",
       "      <td>0.2740</td>\n",
       "      <td>3.14</td>\n",
       "      <td>0.190913</td>\n",
       "      <td>2.574037</td>\n",
       "      <td>2.082619</td>\n",
       "      <td>5.367427</td>\n",
       "      <td>3.065455</td>\n",
       "      <td>1508.414423</td>\n",
       "      <td>4.129814</td>\n",
       "      <td>MBA</td>\n",
       "    </tr>\n",
       "  </tbody>\n",
       "</table>\n",
       "</div>"
      ],
      "text/plain": [
       "     spkid         full_name pha     H diameter  albedo      diameter_sigma  \\\n",
       "0  2000001    '     1 Ceres'   N  3.40    939.4  0.0900                 0.2   \n",
       "1  2000002   '     2 Pallas'   N  4.20    545.0  0.1010                18.0   \n",
       "2  2000003     '     3 Juno'   N  5.33  246.596  0.2140  10.594000000000001   \n",
       "3  2000004    '     4 Vesta'   N  3.00    525.4  0.4228                 0.2   \n",
       "4  2000005  '     5 Astraea'   N  6.90  106.699  0.2740                3.14   \n",
       "\n",
       "          e         a         q          i        ad          per     per_y  \\\n",
       "0  0.077557  2.767657  2.553006  10.588621  2.982308  1681.770740  4.604437   \n",
       "1  0.229972  2.773841  2.135935  34.832934  3.411748  1687.410991  4.619880   \n",
       "2  0.256936  2.668285  1.982706  12.991044  3.353865  1592.013770  4.358696   \n",
       "3  0.088516  2.362014  2.152938   7.141893  2.571090  1325.934723  3.630211   \n",
       "4  0.190913  2.574037  2.082619   5.367427  3.065455  1508.414423  4.129814   \n",
       "\n",
       "  class  \n",
       "0   MBA  \n",
       "1   MBA  \n",
       "2   MBA  \n",
       "3   MBA  \n",
       "4   MBA  "
      ]
     },
     "execution_count": 8,
     "metadata": {},
     "output_type": "execute_result"
    }
   ],
   "source": [
    "df.head()"
   ]
  },
  {
   "cell_type": "markdown",
   "id": "8ec8ef4f-6c26-4700-9df8-8d4ab7f07394",
   "metadata": {},
   "source": [
    "The third column, called *pha*, is a classifying variable: it represents if the asteroid can collide against Earth. `'Y'` if it does, `'N'` if it does not. It would be better if boolean values were stored in that column instead of a char."
   ]
  },
  {
   "cell_type": "code",
   "execution_count": 9,
   "id": "49fb0ff5-b16d-478e-a013-474877ca133c",
   "metadata": {},
   "outputs": [
    {
     "data": {
      "text/plain": [
       "pha\n",
       "N    125975\n",
       "Y       156\n",
       "Name: count, dtype: int64"
      ]
     },
     "execution_count": 9,
     "metadata": {},
     "output_type": "execute_result"
    }
   ],
   "source": [
    "df[\"pha\"].value_counts()"
   ]
  },
  {
   "cell_type": "code",
   "execution_count": 10,
   "id": "c113a611-571a-48d7-82fa-f7736a78ca00",
   "metadata": {},
   "outputs": [],
   "source": [
    "df[\"pha\"] = df[\"pha\"] == 'Y'"
   ]
  },
  {
   "cell_type": "code",
   "execution_count": 11,
   "id": "69b9e2c2-f187-46da-b1e2-758f173bd673",
   "metadata": {},
   "outputs": [
    {
     "data": {
      "text/plain": [
       "pha\n",
       "False    125975\n",
       "True        156\n",
       "Name: count, dtype: int64"
      ]
     },
     "execution_count": 11,
     "metadata": {},
     "output_type": "execute_result"
    }
   ],
   "source": [
    "df[\"pha\"].value_counts()"
   ]
  },
  {
   "cell_type": "code",
   "execution_count": 12,
   "id": "8427c6aa-b5cb-470c-9880-84bae6005e45",
   "metadata": {},
   "outputs": [
    {
     "name": "stdout",
     "output_type": "stream",
     "text": [
      "<class 'pandas.core.frame.DataFrame'>\n",
      "RangeIndex: 126131 entries, 0 to 126130\n",
      "Data columns (total 15 columns):\n",
      " #   Column          Non-Null Count   Dtype  \n",
      "---  ------          --------------   -----  \n",
      " 0   spkid           126131 non-null  int64  \n",
      " 1   full_name       126131 non-null  object \n",
      " 2   pha             126131 non-null  bool   \n",
      " 3   H               126131 non-null  float64\n",
      " 4   diameter        126131 non-null  object \n",
      " 5   albedo          126131 non-null  float64\n",
      " 6   diameter_sigma  126131 non-null  object \n",
      " 7   e               126131 non-null  float64\n",
      " 8   a               126131 non-null  float64\n",
      " 9   q               126131 non-null  float64\n",
      " 10  i               126131 non-null  float64\n",
      " 11  ad              126131 non-null  float64\n",
      " 12  per             126131 non-null  float64\n",
      " 13  per_y           126131 non-null  float64\n",
      " 14  class           126131 non-null  object \n",
      "dtypes: bool(1), float64(9), int64(1), object(4)\n",
      "memory usage: 13.6+ MB\n"
     ]
    }
   ],
   "source": [
    "df.info()"
   ]
  },
  {
   "cell_type": "markdown",
   "id": "0465bafa-4cd8-422a-b63d-265af83e6f7f",
   "metadata": {},
   "source": [
    "**Watch out!** Have a look at the data types of columns *diameter* and *diameter_sigma*:"
   ]
  },
  {
   "cell_type": "code",
   "execution_count": 13,
   "id": "ebbc06fe-437f-454a-9676-b969a24eb22b",
   "metadata": {},
   "outputs": [
    {
     "data": {
      "text/plain": [
       "dtype('O')"
      ]
     },
     "execution_count": 13,
     "metadata": {},
     "output_type": "execute_result"
    }
   ],
   "source": [
    "df[\"diameter\"].dtype"
   ]
  },
  {
   "cell_type": "code",
   "execution_count": 14,
   "id": "fc047f39-77e4-42e2-bf69-2381d5e0528b",
   "metadata": {},
   "outputs": [
    {
     "data": {
      "text/plain": [
       "dtype('O')"
      ]
     },
     "execution_count": 14,
     "metadata": {},
     "output_type": "execute_result"
    }
   ],
   "source": [
    "df[\"diameter_sigma\"].dtype"
   ]
  },
  {
   "cell_type": "markdown",
   "id": "cf99a5d1-4799-4539-a87e-81a6ccc07c82",
   "metadata": {},
   "source": [
    "They both have `dtype = 'object'`."
   ]
  },
  {
   "cell_type": "code",
   "execution_count": 22,
   "id": "e29d5d75-6166-4185-837d-b07879feb40b",
   "metadata": {},
   "outputs": [],
   "source": [
    "df[\"diameter\"] = pd.to_numeric(df[\"diameter\"], errors = \"coerce\")\n",
    "df[\"diameter_sigma\"] = pd.to_numeric(df[\"diameter_sigma\"], errors = \"coerce\")"
   ]
  },
  {
   "cell_type": "code",
   "execution_count": 23,
   "id": "6a894dfe-59f4-436f-a7a1-b3d545a13351",
   "metadata": {},
   "outputs": [
    {
     "name": "stdout",
     "output_type": "stream",
     "text": [
      "<class 'pandas.core.frame.DataFrame'>\n",
      "RangeIndex: 126131 entries, 0 to 126130\n",
      "Data columns (total 15 columns):\n",
      " #   Column          Non-Null Count   Dtype  \n",
      "---  ------          --------------   -----  \n",
      " 0   spkid           126131 non-null  int64  \n",
      " 1   full_name       126131 non-null  object \n",
      " 2   pha             126131 non-null  bool   \n",
      " 3   H               126131 non-null  float64\n",
      " 4   diameter        126128 non-null  float64\n",
      " 5   albedo          126131 non-null  float64\n",
      " 6   diameter_sigma  126035 non-null  float64\n",
      " 7   e               126131 non-null  float64\n",
      " 8   a               126131 non-null  float64\n",
      " 9   q               126131 non-null  float64\n",
      " 10  i               126131 non-null  float64\n",
      " 11  ad              126131 non-null  float64\n",
      " 12  per             126131 non-null  float64\n",
      " 13  per_y           126131 non-null  float64\n",
      " 14  class           126131 non-null  object \n",
      "dtypes: bool(1), float64(11), int64(1), object(2)\n",
      "memory usage: 13.6+ MB\n"
     ]
    }
   ],
   "source": [
    "df.info()"
   ]
  },
  {
   "cell_type": "markdown",
   "id": "e5c550c1-4ca4-4f54-ab19-ecc429b62fba",
   "metadata": {},
   "source": [
    "Problem solved. All the columns have the correct data type."
   ]
  },
  {
   "cell_type": "markdown",
   "id": "81de2843-a21d-4d6d-8e8b-f37c41e140fc",
   "metadata": {},
   "source": [
    "## Save the new DataFrame:"
   ]
  },
  {
   "cell_type": "code",
   "execution_count": 24,
   "id": "ee439774-43ee-4b1a-953a-90bc4a8342a3",
   "metadata": {},
   "outputs": [],
   "source": [
    "df.to_csv(\"../data/clean_data.csv\", index = False) # index = False --> Doesn't store the Index in the csv"
   ]
  }
 ],
 "metadata": {
  "kernelspec": {
   "display_name": "Python 3 (ipykernel)",
   "language": "python",
   "name": "python3"
  },
  "language_info": {
   "codemirror_mode": {
    "name": "ipython",
    "version": 3
   },
   "file_extension": ".py",
   "mimetype": "text/x-python",
   "name": "python",
   "nbconvert_exporter": "python",
   "pygments_lexer": "ipython3",
   "version": "3.11.11"
  }
 },
 "nbformat": 4,
 "nbformat_minor": 5
}
